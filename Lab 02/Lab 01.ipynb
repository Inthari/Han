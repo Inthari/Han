{
 "cells": [
  {
   "cell_type": "code",
   "execution_count": 1,
   "id": "5ca09966-a96f-4684-8d83-e7188ebbf9b0",
   "metadata": {},
   "outputs": [],
   "source": [
    "import tensorflow as tf\n",
    "\n",
    "from tensorflow.keras import layers, callbacks, models, utils\n",
    "\n",
    "rooter = \"PetImages\""
   ]
  },
  {
   "cell_type": "code",
   "execution_count": null,
   "id": "f0d977f6-398a-4e73-a0a9-68f28f72e5bd",
   "metadata": {},
   "outputs": [],
   "source": [
    "from tensorflow.keras.utils import image_dataset_from_directory\n",
    "\n",
    "subset = \"both\"; label = \"binary\"\n",
    "\n",
    "image = (150, 150); split = 0.1; random = 128\n",
    "\n",
    "unseet = 10\n",
    "\n",
    "orifile = image_dataset_from_directory(\n",
    "  rooter,\n",
    "  seed = unseet,\n",
    "  subset = subset,\n",
    "  image_size = image,\n",
    "  label_mode = label,\n",
    "  batch_size = random,\n",
    "  validation_split = split\n",
    ")\n",
    "\n",
    "train, test = orifile"
   ]
  },
  {
   "cell_type": "code",
   "execution_count": 3,
   "id": "68a1d337-dede-4816-92a5-28c732a108e0",
   "metadata": {},
   "outputs": [],
   "source": [
    "model = models.Sequential([ \n",
    "  layers.Rescaling(1.0 / 255.0, input_shape=(150, 150, 3)),\n",
    "  layers.Conv2D(16, 3, activation=\"relu\"),\n",
    "  layers.MaxPool2D((2, 2)),\n",
    "  layers.Conv2D(32, 3, activation=\"relu\"),\n",
    "  layers.MaxPool2D((2, 2)),\n",
    "  layers.Conv2D(64, 3, activation=\"relu\"),\n",
    "  layers.MaxPool2D((2, 2)),\n",
    "  layers.Flatten(),\n",
    "  layers.Dense(128, activation=\"relu\"),\n",
    "  layers.Dense(1, activation=\"sigmoid\")\n",
    "])\n",
    "\n",
    "loss = \"binary_crossentropy\"\n",
    "\n",
    "model.compile(optimizer=\"adam\", loss=loss, metrics=[\"accuracy\"])"
   ]
  },
  {
   "cell_type": "code",
   "execution_count": 4,
   "id": "cbb215df-24a7-4cf1-95f5-2a10c77aca47",
   "metadata": {},
   "outputs": [],
   "source": [
    "class EarlyStoppingCallback(callbacks.Callback):\n",
    "  def on_epoch_end(self, epochs, logs={}):\n",
    "    if logs.get(\"accuracy\") >= 0.95 and logs.get(\"val_accuracy\") >= 0.8:\n",
    "      self.model.stop_training = True\n",
    "\n",
    "callbacks = EarlyStoppingCallback()"
   ]
  },
  {
   "cell_type": "code",
   "execution_count": null,
   "id": "414d545c-0c38-4a54-878d-03644f199184",
   "metadata": {},
   "outputs": [],
   "source": [
    "import warnings\n",
    "\n",
    "warnings.filterwarnings(\"ignore\")\n",
    "\n",
    "history = model.fit(train, epochs=15, validation_data=test, callbacks=callbacks)"
   ]
  },
  {
   "cell_type": "code",
   "execution_count": 6,
   "id": "5cc1e4ab-16ea-4c9c-bc1f-5dd8cba9314e",
   "metadata": {},
   "outputs": [
    {
     "data": {
      "text/plain": [
       "[0.11345014721155167, 0.9558714032173157]"
      ]
     },
     "execution_count": 6,
     "metadata": {},
     "output_type": "execute_result"
    }
   ],
   "source": [
    "model.evaluate(train, verbose=False)"
   ]
  },
  {
   "cell_type": "code",
   "execution_count": 7,
   "id": "41f94182-4ddf-4d7a-9e40-245a76e27520",
   "metadata": {},
   "outputs": [
    {
     "data": {
      "text/plain": [
       "[0.679506242275238, 0.8082924485206604]"
      ]
     },
     "execution_count": 7,
     "metadata": {},
     "output_type": "execute_result"
    }
   ],
   "source": [
    "model.evaluate(test, verbose=False)"
   ]
  },
  {
   "cell_type": "code",
   "execution_count": 8,
   "id": "cfb4e049-a38d-4c2e-8356-16e662db454a",
   "metadata": {},
   "outputs": [
    {
     "data": {
      "text/plain": [
       "11"
      ]
     },
     "execution_count": 8,
     "metadata": {},
     "output_type": "execute_result"
    }
   ],
   "source": [
    "total_loop = len(history.history[\"accuracy\"])\n",
    "\n",
    "total_loop"
   ]
  }
 ],
 "metadata": {
  "kernelspec": {
   "display_name": "Python 3 (ipykernel)",
   "language": "python",
   "name": "python3"
  },
  "language_info": {
   "codemirror_mode": {
    "name": "ipython",
    "version": 3
   },
   "file_extension": ".py",
   "mimetype": "text/x-python",
   "name": "python",
   "nbconvert_exporter": "python",
   "pygments_lexer": "ipython3",
   "version": "3.11.0rc1"
  }
 },
 "nbformat": 4,
 "nbformat_minor": 5
}
