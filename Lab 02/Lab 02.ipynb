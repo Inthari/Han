{
 "cells": [
  {
   "cell_type": "code",
   "execution_count": 1,
   "id": "c3830253-5c91-40fb-8b63-31be95db4d93",
   "metadata": {},
   "outputs": [],
   "source": [
    "import tensorflow as tf\n",
    "\n",
    "from tensorflow.keras import layers, callbacks, models, utils\n",
    "\n",
    "rooter = \"PetImages\""
   ]
  },
  {
   "cell_type": "code",
   "execution_count": null,
   "id": "6a376d1c-eb4d-456b-a6f5-2712a42e9308",
   "metadata": {},
   "outputs": [],
   "source": [
    "from tensorflow.keras.utils import image_dataset_from_directory\n",
    "\n",
    "subset = \"both\"; label = \"binary\"\n",
    "\n",
    "image = (120, 120); split = 0.1; random = 128\n",
    "\n",
    "unseet = 10\n",
    "\n",
    "orifile = image_dataset_from_directory(\n",
    "  rooter,\n",
    "  seed = unseet,\n",
    "  subset = subset,\n",
    "  image_size = image,\n",
    "  label_mode = label,\n",
    "  batch_size = random,\n",
    "  validation_split = split\n",
    ")\n",
    "\n",
    "train, test = orifile"
   ]
  },
  {
   "cell_type": "code",
   "execution_count": 3,
   "id": "c8e8de97-c99a-4e73-a3e4-9f88cab80cd6",
   "metadata": {},
   "outputs": [],
   "source": [
    "augmentation_model = models.Sequential([ \n",
    "  layers.RandomRotation(0.2, input_shape=(120, 120, 3)),\n",
    "  layers.RandomZoom(0.2),\n",
    "  layers.RandomFlip()\n",
    "])"
   ]
  },
  {
   "cell_type": "code",
   "execution_count": 4,
   "id": "8b948c49-af64-4135-bc27-3f1b573f082c",
   "metadata": {},
   "outputs": [],
   "source": [
    "model = models.Sequential([ \n",
    "  layers.Rescaling(1.0 / 255.0, input_shape=(120, 120, 3)),\n",
    "  augmentation_model,\n",
    "  layers.Conv2D(16, 3, activation=\"relu\", padding=\"same\"),\n",
    "  layers.MaxPool2D((2, 2)),\n",
    "  layers.Conv2D(32, 3, activation=\"relu\", padding=\"same\"),\n",
    "  layers.MaxPool2D((2, 2)),\n",
    "  layers.Conv2D(64, 3, activation=\"relu\", padding=\"same\"),\n",
    "  layers.MaxPool2D((2, 2)),\n",
    "  layers.Conv2D(128, 3, activation=\"relu\", padding=\"same\"),\n",
    "  layers.MaxPool2D((2, 2)),\n",
    "  layers.Flatten(),\n",
    "  layers.Dense(128, activation=\"relu\"),\n",
    "  layers.Dense(1, activation=\"sigmoid\")\n",
    "])\n",
    "\n",
    "loss = \"binary_crossentropy\"\n",
    "\n",
    "model.compile(optimizer=\"adam\", loss=loss, metrics=[\"accuracy\"])"
   ]
  },
  {
   "cell_type": "code",
   "execution_count": 5,
   "id": "0835f6ba-21af-4568-a05c-f095f2570ff7",
   "metadata": {},
   "outputs": [],
   "source": [
    "class EarlyStoppingCallback(callbacks.Callback):\n",
    "  def on_epoch_end(self, epochs, logs={}):\n",
    "    if logs.get(\"accuracy\") >= 0.8 and logs.get(\"val_accuracy\") >= 0.8:\n",
    "      self.model.stop_training = True\n",
    "\n",
    "callbacks = EarlyStoppingCallback()"
   ]
  },
  {
   "cell_type": "code",
   "execution_count": null,
   "id": "dcbb8d57-4ab3-47af-b0ed-0b41f1e18fa0",
   "metadata": {},
   "outputs": [],
   "source": [
    "import warnings\n",
    "\n",
    "warnings.filterwarnings(\"ignore\")\n",
    "\n",
    "history = model.fit(train, epochs=35, validation_data=test, callbacks=callbacks)"
   ]
  },
  {
   "cell_type": "code",
   "execution_count": 7,
   "id": "9d3e2429-eaad-4310-ba83-a5eb804bcd7c",
   "metadata": {},
   "outputs": [
    {
     "data": {
      "text/plain": [
       "[0.3721517026424408, 0.8299737572669983]"
      ]
     },
     "execution_count": 7,
     "metadata": {},
     "output_type": "execute_result"
    }
   ],
   "source": [
    "model.evaluate(train, verbose=False)"
   ]
  },
  {
   "cell_type": "code",
   "execution_count": 8,
   "id": "9ec9b621-b980-40dd-8699-60aa79a42aa5",
   "metadata": {},
   "outputs": [
    {
     "data": {
      "text/plain": [
       "[0.4058811366558075, 0.8091841340065002]"
      ]
     },
     "execution_count": 8,
     "metadata": {},
     "output_type": "execute_result"
    }
   ],
   "source": [
    "model.evaluate(test, verbose=False)"
   ]
  },
  {
   "cell_type": "code",
   "execution_count": 9,
   "id": "449f164e-e51c-402c-bde2-41d9b66cdc71",
   "metadata": {},
   "outputs": [
    {
     "data": {
      "text/plain": [
       "15"
      ]
     },
     "execution_count": 9,
     "metadata": {},
     "output_type": "execute_result"
    }
   ],
   "source": [
    "total_loop = len(history.history[\"accuracy\"])\n",
    "\n",
    "total_loop"
   ]
  }
 ],
 "metadata": {
  "kernelspec": {
   "display_name": "Python 3 (ipykernel)",
   "language": "python",
   "name": "python3"
  },
  "language_info": {
   "codemirror_mode": {
    "name": "ipython",
    "version": 3
   },
   "file_extension": ".py",
   "mimetype": "text/x-python",
   "name": "python",
   "nbconvert_exporter": "python",
   "pygments_lexer": "ipython3",
   "version": "3.11.0rc1"
  }
 },
 "nbformat": 4,
 "nbformat_minor": 5
}
