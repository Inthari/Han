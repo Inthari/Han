{
 "cells": [
  {
   "cell_type": "code",
   "execution_count": 1,
   "id": "044c64cf-08df-4f90-9d8a-131d0943d5a2",
   "metadata": {},
   "outputs": [],
   "source": [
    "import tensorflow as tf\n",
    "\n",
    "train_root = \"data/train/\"\n",
    "\n",
    "test_root = \"data/validation/\""
   ]
  },
  {
   "cell_type": "code",
   "execution_count": null,
   "id": "8d2f6c43-d470-40bd-a3f3-03a0998e06d2",
   "metadata": {},
   "outputs": [],
   "source": [
    "from tensorflow.keras.utils import image_dataset_from_directory\n",
    "\n",
    "image = (28, 28); random = 32\n",
    "\n",
    "shuffle = True; label = \"categorical\"\n",
    "\n",
    "color_mode = \"grayscale\"\n",
    "\n",
    "train = image_dataset_from_directory(\n",
    "  train_root,\n",
    "  image_size = image,\n",
    "  label_mode = label,\n",
    "  color_mode = color_mode,\n",
    "  batch_size = random,\n",
    ")\n",
    "\n",
    "test = image_dataset_from_directory(\n",
    "  test_root,\n",
    "  image_size = image,\n",
    "  label_mode = label,\n",
    "  color_mode = color_mode,\n",
    "  batch_size = random,\n",
    ")"
   ]
  },
  {
   "cell_type": "code",
   "execution_count": 3,
   "id": "9291b290-5df8-4c3d-8f5e-29361decdf51",
   "metadata": {},
   "outputs": [],
   "source": [
    "from tensorflow.keras import models, layers\n",
    "\n",
    "model = models.Sequential([ \n",
    "  layers.Rescaling(1.0 / 255.0, input_shape=(28, 28, 1)),\n",
    "  layers.Conv2D(16, 3, activation=\"relu\"),\n",
    "  layers.MaxPool2D((2, 2)),\n",
    "  layers.Conv2D(32, 3, activation=\"relu\"),\n",
    "  layers.MaxPool2D((2, 2)),\n",
    "  layers.Flatten(),\n",
    "  layers.Dense(30, activation=\"relu\"),\n",
    "  layers.Dense(24, activation=\"sigmoid\")\n",
    "])\n",
    "\n",
    "loss = \"categorical_crossentropy\"\n",
    "\n",
    "model.compile(optimizer=\"adam\", loss=loss, metrics=[\"accuracy\"])"
   ]
  },
  {
   "cell_type": "code",
   "execution_count": null,
   "id": "8835dbfe-137d-42f3-baf7-a5f62dbf8251",
   "metadata": {},
   "outputs": [],
   "source": [
    "history = model.fit(train, epochs=15, validation_data=test)"
   ]
  },
  {
   "cell_type": "code",
   "execution_count": 5,
   "id": "b500bb23-0c7d-4c04-b000-328c2c32e56d",
   "metadata": {},
   "outputs": [
    {
     "data": {
      "text/plain": [
       "[0.00010728002962423488, 0.9418684840202332]"
      ]
     },
     "execution_count": 5,
     "metadata": {},
     "output_type": "execute_result"
    }
   ],
   "source": [
    "model.evaluate(train, verbose=False)"
   ]
  },
  {
   "cell_type": "code",
   "execution_count": 6,
   "id": "fc1de707-f0b0-4ff3-b7c7-689089b0c485",
   "metadata": {},
   "outputs": [
    {
     "data": {
      "text/plain": [
       "[0.49936461448669434, 0.8614248037338257]"
      ]
     },
     "execution_count": 6,
     "metadata": {},
     "output_type": "execute_result"
    }
   ],
   "source": [
    "model.evaluate(test, verbose=False)"
   ]
  }
 ],
 "metadata": {
  "kernelspec": {
   "display_name": "Python 3 (ipykernel)",
   "language": "python",
   "name": "python3"
  },
  "language_info": {
   "codemirror_mode": {
    "name": "ipython",
    "version": 3
   },
   "file_extension": ".py",
   "mimetype": "text/x-python",
   "name": "python",
   "nbconvert_exporter": "python",
   "pygments_lexer": "ipython3",
   "version": "3.11.0rc1"
  }
 },
 "nbformat": 4,
 "nbformat_minor": 5
}
