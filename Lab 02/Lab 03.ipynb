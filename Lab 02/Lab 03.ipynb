{
 "cells": [
  {
   "cell_type": "code",
   "execution_count": 1,
   "id": "86ed1a1c-63ed-4444-87a4-1fca177a22bd",
   "metadata": {},
   "outputs": [],
   "source": [
    "import tensorflow as tf\n",
    "\n",
    "train_root = \"data/train/\"\n",
    "\n",
    "test_root = \"data/validation/\""
   ]
  },
  {
   "cell_type": "code",
   "execution_count": null,
   "id": "0852658a-fb7d-40f6-999c-6bee542315d0",
   "metadata": {},
   "outputs": [],
   "source": [
    "from tensorflow.keras.utils import image_dataset_from_directory\n",
    "\n",
    "image = (150, 150); split = 0.1; random = 32\n",
    "\n",
    "unseet = 10; shuffle = True; label = \"binary\"\n",
    "\n",
    "train = image_dataset_from_directory(\n",
    "  train_root,\n",
    "  seed = unseet,\n",
    "  image_size = image,\n",
    "  label_mode = label,\n",
    "  shuffle = shuffle,\n",
    "  batch_size = random,\n",
    ")\n",
    "\n",
    "test = image_dataset_from_directory(\n",
    "  test_root,\n",
    "  seed = unseet,\n",
    "  image_size = image,\n",
    "  label_mode = label,\n",
    "  shuffle = shuffle,\n",
    "  batch_size = random,\n",
    ")"
   ]
  },
  {
   "cell_type": "code",
   "execution_count": 3,
   "id": "85aadd47-7ded-4556-a903-dd28476ef818",
   "metadata": {},
   "outputs": [],
   "source": [
    "weights = 'model/inception_v3_weights_tf_dim_ordering_tf_kernels_notop.h5'"
   ]
  },
  {
   "cell_type": "code",
   "execution_count": 4,
   "id": "eca82410-7bbf-4543-b842-8ad58a20a9ff",
   "metadata": {},
   "outputs": [],
   "source": [
    "from tensorflow.keras.applications.inception_v3 import InceptionV3\n",
    "\n",
    "pre_trained_model = InceptionV3(include_top=False, input_shape=(150, 150, 3), weights=weights)\n",
    "\n",
    "pre_trained_model.trainable = False"
   ]
  },
  {
   "cell_type": "code",
   "execution_count": 5,
   "id": "39ad9535-085e-4034-9287-b2bcb26079b9",
   "metadata": {},
   "outputs": [],
   "source": [
    "from tensorflow.keras.callbacks import Callback\n",
    "\n",
    "class EarlyStoppingCallback(Callback):\n",
    "  def on_epoch_end(self, epoch, logs={}):\n",
    "    if logs.get(\"accuracy\") > 0.999:\n",
    "      self.model.stop_training = True\n",
    "\n",
    "callbacks = [EarlyStoppingCallback()]"
   ]
  },
  {
   "cell_type": "code",
   "execution_count": 6,
   "id": "c480deec-cea7-4929-b547-b132b001246d",
   "metadata": {},
   "outputs": [],
   "source": [
    "last_desired_layer = pre_trained_model.get_layer('mixed7')\n",
    "\n",
    "last_output = last_desired_layer.output"
   ]
  },
  {
   "cell_type": "code",
   "execution_count": 7,
   "id": "3f744f15-af19-494b-8677-647e5e11699f",
   "metadata": {},
   "outputs": [],
   "source": [
    "x = tf.keras.layers.Flatten()(last_output)\n",
    "\n",
    "x = tf.keras.layers.Dense(1024, activation=\"relu\")(x)\n",
    "\n",
    "x = tf.keras.layers.Dropout(0.2)(x)\n",
    "\n",
    "output = tf.keras.layers.Dense(1, activation=\"sigmoid\")(x)\n",
    "\n",
    "model = tf.keras.Model(inputs=pre_trained_model.input, outputs=output)\n",
    "\n",
    "optimizer = tf.keras.optimizers.RMSprop(learning_rate=0.00001)\n",
    "\n",
    "model.compile(optimizer=optimizer, loss=\"binary_crossentropy\", metrics=['accuracy'])"
   ]
  },
  {
   "cell_type": "code",
   "execution_count": 8,
   "id": "89c1cddb-21a3-404c-bc54-7177b74228e0",
   "metadata": {},
   "outputs": [],
   "source": [
    "val_batches = int(test.cardinality())\n",
    "\n",
    "test, validation = tf.keras.utils.split_dataset(test, val_batches//5)"
   ]
  },
  {
   "cell_type": "code",
   "execution_count": 9,
   "id": "bd2d79ac-070c-4c55-8c03-254910c71716",
   "metadata": {},
   "outputs": [],
   "source": [
    "def preprocess(image, label):\n",
    "  \"\"\"\n",
    "  Helper Transfer Learning\n",
    "  \"\"\"\n",
    "  image = tf.keras.applications.inception_v3.preprocess_input(image)\n",
    "  return image, label\n",
    "\n",
    "train = train.map(preprocess)\n",
    "\n",
    "validation = validation.map(preprocess)\n",
    "\n",
    "test = test.map(preprocess)"
   ]
  },
  {
   "cell_type": "code",
   "execution_count": null,
   "id": "ff3ace15-8365-445b-b131-9649bf03302a",
   "metadata": {},
   "outputs": [],
   "source": [
    "history = model.fit(train, validation_data = validation, epochs = 10, callbacks = callbacks)"
   ]
  },
  {
   "cell_type": "code",
   "execution_count": 11,
   "id": "d5e33064-4bce-4488-bc94-fb9e04b80c0d",
   "metadata": {},
   "outputs": [
    {
     "data": {
      "text/plain": [
       "[0.003932130988687277, 1.0]"
      ]
     },
     "execution_count": 11,
     "metadata": {},
     "output_type": "execute_result"
    }
   ],
   "source": [
    "model.evaluate(train, verbose=False)"
   ]
  },
  {
   "cell_type": "code",
   "execution_count": 12,
   "id": "ea6b4694-6277-4960-9c8d-cbc2f2a946a7",
   "metadata": {},
   "outputs": [
    {
     "data": {
      "text/plain": [
       "[0.008428575471043587, 1.0]"
      ]
     },
     "execution_count": 12,
     "metadata": {},
     "output_type": "execute_result"
    }
   ],
   "source": [
    "model.evaluate(test, verbose=False)"
   ]
  },
  {
   "cell_type": "code",
   "execution_count": 13,
   "id": "d8e84b99-48ad-4f57-b76a-bdc9e8942313",
   "metadata": {},
   "outputs": [
    {
     "data": {
      "text/plain": [
       "[0.03289664909243584, 0.9955357313156128]"
      ]
     },
     "execution_count": 13,
     "metadata": {},
     "output_type": "execute_result"
    }
   ],
   "source": [
    "model.evaluate(validation, verbose=False)"
   ]
  },
  {
   "cell_type": "code",
   "execution_count": 14,
   "id": "491ac467-1066-4420-925d-1ea44ee22e5e",
   "metadata": {},
   "outputs": [
    {
     "data": {
      "text/plain": [
       "3"
      ]
     },
     "execution_count": 14,
     "metadata": {},
     "output_type": "execute_result"
    }
   ],
   "source": [
    "total_loop = len(history.history[\"loss\"])\n",
    "\n",
    "total_loop"
   ]
  }
 ],
 "metadata": {
  "kernelspec": {
   "display_name": "Python 3 (ipykernel)",
   "language": "python",
   "name": "python3"
  },
  "language_info": {
   "codemirror_mode": {
    "name": "ipython",
    "version": 3
   },
   "file_extension": ".py",
   "mimetype": "text/x-python",
   "name": "python",
   "nbconvert_exporter": "python",
   "pygments_lexer": "ipython3",
   "version": "3.11.0rc1"
  }
 },
 "nbformat": 4,
 "nbformat_minor": 5
}
