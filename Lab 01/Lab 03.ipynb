{
  "nbformat": 4,
  "nbformat_minor": 0,
  "metadata": {
    "colab": {
      "provenance": []
    },
    "kernelspec": {
      "name": "python3",
      "display_name": "Python 3"
    },
    "language_info": {
      "name": "python"
    }
  },
  "cells": [
    {
      "cell_type": "code",
      "execution_count": 1,
      "metadata": {
        "id": "GXWCyrNXC-Jd"
      },
      "outputs": [],
      "source": [
        "import tensorflow as tf\n",
        "\n",
        "import numpy as np\n",
        "\n",
        "from tensorflow.keras import callbacks, layers, models, datasets"
      ]
    },
    {
      "cell_type": "code",
      "source": [
        "(train_images, train_labels), (test_images, test_labels) = datasets.mnist.load_data()"
      ],
      "metadata": {
        "id": "Z7fEUKsUDjXp"
      },
      "execution_count": 2,
      "outputs": []
    },
    {
      "cell_type": "code",
      "source": [
        "def ReScale(images):\n",
        "  \"\"\"\n",
        "  Resize & Rescale\n",
        "  \"\"\"\n",
        "  images = images.reshape((images.shape[0], 28, 28, 1))\n",
        "\n",
        "  images = images / 255.0\n",
        "\n",
        "  return images\n",
        "\n",
        "train_images = ReScale(train_images)\n",
        "\n",
        "test_images = ReScale(test_images)"
      ],
      "metadata": {
        "id": "B1ZXWa_2FfzX"
      },
      "execution_count": 3,
      "outputs": []
    },
    {
      "cell_type": "code",
      "source": [
        "class EarlyStoppingCallback(callbacks.Callback):\n",
        "  def on_epoch_end(self, epochs, logs={}):\n",
        "    if logs.get(\"accuracy\") >= 0.995:\n",
        "      self.model.stop_training = True\n",
        "\n",
        "callbacks = EarlyStoppingCallback()"
      ],
      "metadata": {
        "id": "KazjGoMKGcAS"
      },
      "execution_count": 4,
      "outputs": []
    },
    {
      "cell_type": "code",
      "source": [
        "import warnings\n",
        "\n",
        "warnings.filterwarnings(\"ignore\")\n",
        "\n",
        "model = models.Sequential([\n",
        "  layers.Conv2D(16, (3, 3), activation=\"relu\", input_shape=(28, 28, 1)),\n",
        "  layers.MaxPool2D((2, 2)),\n",
        "  layers.Flatten(),\n",
        "  layers.Dense(128, activation=\"relu\"),\n",
        "  layers.Dense(10, activation=\"softmax\")\n",
        "])\n",
        "\n",
        "loss = \"sparse_categorical_crossentropy\"\n",
        "\n",
        "model.compile(optimizer=\"adam\", loss=loss, metrics=[\"accuracy\"])"
      ],
      "metadata": {
        "id": "3RU-lVEsGlhL"
      },
      "execution_count": 5,
      "outputs": []
    },
    {
      "cell_type": "code",
      "source": [
        "hist = model.fit(train_images, train_labels, epochs=10, verbose=False, callbacks=[callbacks])"
      ],
      "metadata": {
        "id": "cTDI0ZPyG5ti"
      },
      "execution_count": 6,
      "outputs": []
    },
    {
      "cell_type": "code",
      "source": [
        "model.evaluate(test_images, test_labels, verbose=False)"
      ],
      "metadata": {
        "colab": {
          "base_uri": "https://localhost:8080/"
        },
        "id": "1rNcSYHuHPvo",
        "outputId": "a180b8bc-6357-4266-85ab-c89e9be28acf"
      },
      "execution_count": 7,
      "outputs": [
        {
          "output_type": "execute_result",
          "data": {
            "text/plain": [
              "[0.048279136419296265, 0.9850999712944031]"
            ]
          },
          "metadata": {},
          "execution_count": 7
        }
      ]
    },
    {
      "cell_type": "code",
      "source": [
        "total_loop = len(hist.history[\"accuracy\"])\n",
        "\n",
        "total_loop"
      ],
      "metadata": {
        "colab": {
          "base_uri": "https://localhost:8080/"
        },
        "id": "d-YE1GdrHRwB",
        "outputId": "be0fb985-32f2-4dce-d2a2-128f31aa4d69"
      },
      "execution_count": 8,
      "outputs": [
        {
          "output_type": "execute_result",
          "data": {
            "text/plain": [
              "6"
            ]
          },
          "metadata": {},
          "execution_count": 8
        }
      ]
    }
  ]
}