{
  "cells": [
    {
      "cell_type": "code",
      "execution_count": 1,
      "metadata": {
        "id": "n5Jw3xwJ_-pi"
      },
      "outputs": [],
      "source": [
        "import numpy as np\n",
        "\n",
        "import tensorflow as tf"
      ]
    },
    {
      "cell_type": "code",
      "execution_count": 2,
      "metadata": {
        "id": "kZSXj1V-AXWn"
      },
      "outputs": [],
      "source": [
        "train = np.array([*range(1, 7)])\n",
        "\n",
        "label = train * 0.5 + 0.5"
      ]
    },
    {
      "cell_type": "code",
      "execution_count": 3,
      "metadata": {
        "colab": {
          "base_uri": "https://localhost:8080/"
        },
        "id": "rFrKgrabAdqX",
        "outputId": "b9525378-24dd-435c-b810-68133a1e5150"
      },
      "outputs": [
        {
          "output_type": "execute_result",
          "data": {
            "text/plain": [
              "[array([[0.56770766]], dtype=float32), array([0.], dtype=float32)]"
            ]
          },
          "metadata": {},
          "execution_count": 3
        }
      ],
      "source": [
        "from tensorflow.keras import models, layers\n",
        "\n",
        "import warnings; warnings.filterwarnings(\"ignore\")\n",
        "\n",
        "model = models.Sequential()\n",
        "\n",
        "model.add(layers.Dense(1, input_shape=(1, )))\n",
        "\n",
        "model.get_weights()"
      ]
    },
    {
      "cell_type": "code",
      "execution_count": 4,
      "metadata": {
        "id": "wigZg16dApld"
      },
      "outputs": [],
      "source": [
        "model.compile(optimizer=\"sgd\", loss=\"mse\")\n",
        "\n",
        "hist = model.fit(train, label, epochs=500, verbose=False)"
      ]
    },
    {
      "cell_type": "code",
      "execution_count": 5,
      "metadata": {
        "colab": {
          "base_uri": "https://localhost:8080/"
        },
        "id": "kD8h-ui_Aw4N",
        "outputId": "2b8df54d-9912-416c-ad9a-b0417ec62962"
      },
      "outputs": [
        {
          "output_type": "execute_result",
          "data": {
            "text/plain": [
              "[array([[0.51836294]], dtype=float32), array([0.42138472], dtype=float32)]"
            ]
          },
          "metadata": {},
          "execution_count": 5
        }
      ],
      "source": [
        "model.get_weights()"
      ]
    },
    {
      "cell_type": "code",
      "execution_count": 6,
      "metadata": {
        "colab": {
          "base_uri": "https://localhost:8080/"
        },
        "id": "sYIDmHfXAyNx",
        "outputId": "4db17795-9ca0-4383-93b5-bcf2564c7856"
      },
      "outputs": [
        {
          "output_type": "execute_result",
          "data": {
            "text/plain": [
              "0.0011892722686752677"
            ]
          },
          "metadata": {},
          "execution_count": 6
        }
      ],
      "source": [
        "model.evaluate(train, label, verbose=False)"
      ]
    },
    {
      "cell_type": "code",
      "execution_count": 7,
      "metadata": {
        "colab": {
          "base_uri": "https://localhost:8080/"
        },
        "id": "jHtoAbXJA14n",
        "outputId": "b3be9d00-8f1e-4b99-f789-9cfa185a6cbe"
      },
      "outputs": [
        {
          "output_type": "execute_result",
          "data": {
            "text/plain": [
              "array([[4.0499253, 5.6050143]], dtype=float32)"
            ]
          },
          "metadata": {},
          "execution_count": 7
        }
      ],
      "source": [
        "test = np.array([7, 10], dtype=\"float\")\n",
        "\n",
        "model.predict(test, verbose=False).T"
      ]
    }
  ],
  "metadata": {
    "colab": {
      "provenance": []
    },
    "kernelspec": {
      "display_name": "Python 3",
      "name": "python3"
    },
    "language_info": {
      "name": "python"
    }
  },
  "nbformat": 4,
  "nbformat_minor": 0
}