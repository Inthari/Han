{
  "cells": [
    {
      "cell_type": "code",
      "execution_count": null,
      "id": "196f9386-a834-465a-8027-0d2fcabf4cd0",
      "metadata": {
        "id": "196f9386-a834-465a-8027-0d2fcabf4cd0"
      },
      "outputs": [],
      "source": [
        "import tensorflow as tf\n",
        "\n",
        "from tensorflow.keras import layers, models, callbacks, utils"
      ]
    },
    {
      "cell_type": "code",
      "execution_count": null,
      "id": "c01f9483-ab39-43fb-97a6-b6419e1b14ec",
      "metadata": {
        "id": "c01f9483-ab39-43fb-97a6-b6419e1b14ec",
        "outputId": "29db1069-f792-4d70-dabd-684d584b068c"
      },
      "outputs": [
        {
          "data": {
            "text/plain": [
              "['sad', 'happy']"
            ]
          },
          "execution_count": 2,
          "metadata": {},
          "output_type": "execute_result"
        }
      ],
      "source": [
        "import os\n",
        "\n",
        "os.listdir(\"data\")"
      ]
    },
    {
      "cell_type": "code",
      "execution_count": null,
      "id": "85f9ad49-1203-40e5-8ad8-17f91cc889e1",
      "metadata": {
        "id": "85f9ad49-1203-40e5-8ad8-17f91cc889e1",
        "outputId": "65ef15ae-6871-4f5a-df26-5db9135bb91b"
      },
      "outputs": [
        {
          "data": {
            "text/plain": [
              "80"
            ]
          },
          "execution_count": 3,
          "metadata": {},
          "output_type": "execute_result"
        }
      ],
      "source": [
        "label = os.listdir(\"data\")\n",
        "\n",
        "total_images = sum([len(os.listdir(os.path.join(\"data\", i))) for i in label])\n",
        "\n",
        "total_images"
      ]
    },
    {
      "cell_type": "code",
      "execution_count": null,
      "id": "a9856b6f-8c89-435a-84b8-038c2b40133a",
      "metadata": {
        "id": "a9856b6f-8c89-435a-84b8-038c2b40133a"
      },
      "outputs": [],
      "source": [
        "images = utils.image_dataset_from_directory(\n",
        "  \"data\",\n",
        "  image_size = (150, 150),\n",
        "  label_mode = \"binary\",\n",
        "  batch_size = 10\n",
        ")\n",
        "\n",
        "rescale_layer = layers.Rescaling(1.0 / 255.0)\n",
        "\n",
        "images = images.map(lambda i, j : (rescale_layer(i), j))"
      ]
    },
    {
      "cell_type": "code",
      "execution_count": null,
      "id": "9abf3a0c-1c7e-48f4-b67b-75ee941bc202",
      "metadata": {
        "id": "9abf3a0c-1c7e-48f4-b67b-75ee941bc202"
      },
      "outputs": [],
      "source": [
        "model = models.Sequential([\n",
        "  layers.Conv2D(16, 3, activation=\"relu\", input_shape=(150, 150, 3)),\n",
        "  layers.MaxPool2D((2, 2)),\n",
        "  layers.Conv2D(32, 3, activation=\"relu\"),\n",
        "  layers.MaxPool2D((2, 2)),\n",
        "  layers.Conv2D(64, 3, activation=\"relu\"),\n",
        "  layers.MaxPool2D((2, 2)),\n",
        "  layers.Flatten(),\n",
        "  layers.Dense(64, activation=\"relu\"),\n",
        "  layers.Dense(10, activation=\"softmax\")\n",
        "])\n",
        "\n",
        "loss = \"sparse_categorical_crossentropy\"\n",
        "\n",
        "model.compile(loss=loss, optimizer=\"adam\", metrics=[\"accuracy\"])"
      ]
    },
    {
      "cell_type": "code",
      "execution_count": null,
      "id": "9f27b91a-f614-4d2c-8d27-244b0dcced6d",
      "metadata": {
        "id": "9f27b91a-f614-4d2c-8d27-244b0dcced6d"
      },
      "outputs": [],
      "source": [
        "class EarlyStoppingCallback(callbacks.Callback):\n",
        "  def on_epoch_end(self, epoch, logs={}):\n",
        "    if logs['accuracy'] >= 0.999:\n",
        "      self.model.stop_training = True"
      ]
    },
    {
      "cell_type": "code",
      "execution_count": null,
      "id": "7835bcb5-2dc3-4fa4-8538-2c48ef3a78d2",
      "metadata": {
        "id": "7835bcb5-2dc3-4fa4-8538-2c48ef3a78d2"
      },
      "outputs": [],
      "source": [
        "hist = model.fit(images, epochs=15, callbacks=[EarlyStoppingCallback()])"
      ]
    },
    {
      "cell_type": "code",
      "execution_count": null,
      "id": "526763ac-d30c-4bf5-8a7e-baeb6a61c3eb",
      "metadata": {
        "id": "526763ac-d30c-4bf5-8a7e-baeb6a61c3eb",
        "outputId": "10a58480-5bc5-40fe-cf4b-271c448e7e34"
      },
      "outputs": [
        {
          "data": {
            "text/plain": [
              "9"
            ]
          },
          "execution_count": 8,
          "metadata": {},
          "output_type": "execute_result"
        }
      ],
      "source": [
        "total_loop = len(hist.history[\"accuracy\"])\n",
        "\n",
        "total_loop"
      ]
    }
  ],
  "metadata": {
    "kernelspec": {
      "display_name": "Python 3 (ipykernel)",
      "language": "python",
      "name": "python3"
    },
    "language_info": {
      "codemirror_mode": {
        "name": "ipython",
        "version": 3
      },
      "file_extension": ".py",
      "mimetype": "text/x-python",
      "name": "python",
      "nbconvert_exporter": "python",
      "pygments_lexer": "ipython3",
      "version": "3.11.6"
    },
    "colab": {
      "provenance": []
    }
  },
  "nbformat": 4,
  "nbformat_minor": 5
}