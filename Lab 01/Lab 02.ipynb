{
  "cells": [
    {
      "cell_type": "code",
      "execution_count": 1,
      "metadata": {
        "id": "WpyCaSp8BIvc"
      },
      "outputs": [],
      "source": [
        "import tensorflow as tf\n",
        "\n",
        "from tensorflow.keras import callbacks, layers, models, datasets"
      ]
    },
    {
      "cell_type": "code",
      "execution_count": 2,
      "metadata": {
        "id": "uRUZ_YZ3BkYe"
      },
      "outputs": [],
      "source": [
        "(train_images, train_labels), (test_images, test_labels) = datasets.mnist.load_data()"
      ]
    },
    {
      "cell_type": "code",
      "execution_count": 3,
      "metadata": {
        "id": "yRmjQ9beBqjv"
      },
      "outputs": [],
      "source": [
        "import numpy as np\n",
        "\n",
        "rescale = lambda image : image / 255.0\n",
        "\n",
        "train_images = rescale(train_images)\n",
        "\n",
        "np.min(train_images[0]), np.max(train_images[0])"
      ]
    },
    {
      "cell_type": "code",
      "execution_count": null,
      "metadata": {},
      "outputs": [],
      "source": [
        "test_images = rescale(test_images)\n",
        "\n",
        "np.min(test_images[0]), np.max(test_images[0])"
      ]
    },
    {
      "cell_type": "code",
      "execution_count": null,
      "metadata": {
        "id": "vdJ34998Bvt5"
      },
      "outputs": [],
      "source": [
        "model = models.Sequential([\n",
        "  layers.Flatten(input_shape=(28, 28)),\n",
        "  layers.Dense(128, activation=\"relu\"),\n",
        "  layers.Dense(10, activation=\"softmax\")\n",
        "])\n",
        "\n",
        "loss = \"sparse_categorical_crossentropy\"\n",
        "\n",
        "model.compile(optimizer=\"adam\", loss=loss, metrics=[\"accuracy\"])"
      ]
    },
    {
      "cell_type": "code",
      "execution_count": 5,
      "metadata": {
        "id": "5VPX1yOQB6LV"
      },
      "outputs": [],
      "source": [
        "class Callbacks(callbacks.Callback):\n",
        "  def on_epoch_end(self, epochs, logs={}):\n",
        "    if logs.get(\"accuracy\") > 0.98:\n",
        "      self.model.stop_training = True\n",
        "\n",
        "callbacks = Callbacks()"
      ]
    },
    {
      "cell_type": "code",
      "execution_count": 6,
      "metadata": {
        "id": "L0-JpKTMCfO2"
      },
      "outputs": [],
      "source": [
        "hist = model.fit(train_images, train_labels, epochs=10, verbose=False, callbacks=[callbacks])"
      ]
    },
    {
      "cell_type": "code",
      "execution_count": 7,
      "metadata": {
        "colab": {
          "base_uri": "https://localhost:8080/"
        },
        "id": "oWU55CovCjav",
        "outputId": "1a1ebfff-8267-4c8a-b446-9b325094a15d"
      },
      "outputs": [
        {
          "data": {
            "text/plain": [
              "[0.0784202590584755, 0.9753000140190125]"
            ]
          },
          "execution_count": 7,
          "metadata": {},
          "output_type": "execute_result"
        }
      ],
      "source": [
        "model.evaluate(test_images, test_labels, verbose=False)"
      ]
    },
    {
      "cell_type": "code",
      "execution_count": 8,
      "metadata": {
        "colab": {
          "base_uri": "https://localhost:8080/"
        },
        "id": "QlQoEO75HDJP",
        "outputId": "17656675-f169-48b7-906b-3cbe00b8823f"
      },
      "outputs": [
        {
          "data": {
            "text/plain": [
              "4"
            ]
          },
          "execution_count": 8,
          "metadata": {},
          "output_type": "execute_result"
        }
      ],
      "source": [
        "total_loop = len(hist.history[\"accuracy\"])\n",
        "\n",
        "total_loop"
      ]
    }
  ],
  "metadata": {
    "colab": {
      "provenance": []
    },
    "kernelspec": {
      "display_name": "Python 3",
      "name": "python3"
    },
    "language_info": {
      "name": "python"
    }
  },
  "nbformat": 4,
  "nbformat_minor": 0
}
