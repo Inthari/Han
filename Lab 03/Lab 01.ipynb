{
 "cells": [
  {
   "cell_type": "code",
   "execution_count": 1,
   "id": "1b24e17f-2242-4a88-bbfa-d851e4c717db",
   "metadata": {},
   "outputs": [],
   "source": [
    "import stopwords, csv\n",
    "\n",
    "from tensorflow.keras.layers import TextVectorization, StringLookup\n",
    "\n",
    "def HelperClear(sentences):\n",
    "  \"\"\"\n",
    "  Helper to Clear Your Sentences\n",
    "  \"\"\"\n",
    "  output = sentences.lower().split()\n",
    "  unlist = stopwords.get_stopwords(\"english\")\n",
    "  output = [i for i in output if i not in unlist]\n",
    "  result = \" \".join(output)\n",
    "  return result"
   ]
  },
  {
   "cell_type": "code",
   "execution_count": 2,
   "id": "d71fe3c4-d8ad-4c0c-ab4b-a93342afdb2b",
   "metadata": {},
   "outputs": [],
   "source": [
    "urlfile = \"data/bbc-text.csv\"\n",
    "\n",
    "sentences = []; labels = []\n",
    "\n",
    "with open(urlfile, 'r') as urli:\n",
    "  # Load, Read CSV File\n",
    "  reader = csv.reader(urli, delimiter=\",\")\n",
    "  next(reader)\n",
    "  for input in reader:\n",
    "    labels.append(input[0])\n",
    "    sentences.append(HelperClear(input[1]))"
   ]
  },
  {
   "cell_type": "code",
   "execution_count": 3,
   "id": "9b66ec13-7000-43af-a8b2-8d9b3288e082",
   "metadata": {},
   "outputs": [
    {
     "data": {
      "text/plain": [
       "['tech', 'business', 'sport', 'sport', 'entertainment']"
      ]
     },
     "execution_count": 3,
     "metadata": {},
     "output_type": "execute_result"
    }
   ],
   "source": [
    "labels[:5]"
   ]
  },
  {
   "cell_type": "code",
   "execution_count": 4,
   "id": "db037a9a-2418-4248-bc36-836b57e74f3e",
   "metadata": {},
   "outputs": [
    {
     "data": {
      "text/plain": [
       "431"
      ]
     },
     "execution_count": 4,
     "metadata": {},
     "output_type": "execute_result"
    }
   ],
   "source": [
    "len(sentences[0].split())"
   ]
  },
  {
   "cell_type": "code",
   "execution_count": 5,
   "id": "00fae1d9-8fad-44f6-b204-f1fa4ed7841e",
   "metadata": {},
   "outputs": [],
   "source": [
    "vectorizer = TextVectorization()\n",
    "\n",
    "vectorizer.adapt(sentences)"
   ]
  },
  {
   "cell_type": "code",
   "execution_count": 6,
   "id": "dd096169-2a9b-4d50-96cf-a3224002944a",
   "metadata": {},
   "outputs": [],
   "source": [
    "label_lookup = StringLookup(num_oov_indices=0)\n",
    "\n",
    "label_lookup.adapt(labels)"
   ]
  },
  {
   "cell_type": "code",
   "execution_count": 7,
   "id": "93b10f92-7505-45c2-b1a4-7e8fc3b56001",
   "metadata": {},
   "outputs": [
    {
     "data": {
      "text/plain": [
       "array([3, 1, 0, 0, 4])"
      ]
     },
     "execution_count": 7,
     "metadata": {},
     "output_type": "execute_result"
    }
   ],
   "source": [
    "test_label_sample = label_lookup(labels[:5])\n",
    "\n",
    "test_label_sample.numpy()"
   ]
  }
 ],
 "metadata": {
  "kernelspec": {
   "display_name": "Python 3 (ipykernel)",
   "language": "python",
   "name": "python3"
  },
  "language_info": {
   "codemirror_mode": {
    "name": "ipython",
    "version": 3
   },
   "file_extension": ".py",
   "mimetype": "text/x-python",
   "name": "python",
   "nbconvert_exporter": "python",
   "pygments_lexer": "ipython3",
   "version": "3.11.6"
  }
 },
 "nbformat": 4,
 "nbformat_minor": 5
}
